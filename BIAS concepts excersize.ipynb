{
 "cells": [
  {
   "cell_type": "markdown",
   "metadata": {},
   "source": [
    "- In this milestone we were introduced to various aspects that can go wrong with a model, even if its performance seems to be reasonable. For example, we have seen scenarios where a model overall is accurate, but if you dive a little deeper you find that for a specific group the performance is not satisfactory, and so relying on the model may have bad results for that group.\n",
    "- There are other types of bias that for example can reenforce a (unconscious) bias of the engineers or available training data, that ends up with the model discriminating.\n",
    "- We learned of various measures to check for bias, and we learned that there are ways to mitigate some or all the bias, while keeping most of the model's goodness.\n",
    "- Transparency is a key to any solution, because then users, providers, and regulators can at least evaluate wheatear the model is trustworthy.\n",
    "- We were introduced with arguments against blind usage of models, or stepping into a task without considering if the intended usage of the software is at least legitimate, and does not violates written laws and common sense."
   ]
  },
  {
   "cell_type": "code",
   "execution_count": null,
   "metadata": {},
   "outputs": [],
   "source": []
  }
 ],
 "metadata": {
  "kernelspec": {
   "display_name": "Python 3",
   "language": "python",
   "name": "python3"
  },
  "language_info": {
   "codemirror_mode": {
    "name": "ipython",
    "version": 3
   },
   "file_extension": ".py",
   "mimetype": "text/x-python",
   "name": "python",
   "nbconvert_exporter": "python",
   "pygments_lexer": "ipython3",
   "version": "3.8.5"
  }
 },
 "nbformat": 4,
 "nbformat_minor": 4
}
