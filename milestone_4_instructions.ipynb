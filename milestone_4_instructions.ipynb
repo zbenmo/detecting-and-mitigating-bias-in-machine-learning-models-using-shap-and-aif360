{
 "cells": [
  {
   "cell_type": "markdown",
   "metadata": {
    "id": "feDRsCpVcFkP"
   },
   "source": [
    "# Milestone 4\n",
    "\n",
    "#### Objective:\n",
    "\n",
    " - Audit a model for bias when the protected class is not available.\n",
    "\n",
    "#### Workflow:\n",
    "\n",
    " - Introduction\n",
    " - Set up problem\n",
    " - Load data and display primary and secondary sets\n",
    " - Load model to audit for bias\n",
    " - Train model from proxy variables to predict the protected class\n",
    " - Assess the model bias\n",
    " - Report your findings\n",
    "\n",
    "#### Importance to Project:\n",
    "\n",
    " - Very often, protected class information is not available when you are auditing for bias or removing bias.  \n",
    " - In these cases, the task becomes much more challenging. \n",
    " - You might not have access to the protected class information either because you can only see the model itself and not the underlying data, or because even the original creators don't know the protected class status of each row. \n",
    " - While auditing or mitigating bias without direct access to the protected class introduces a level of uncertainty, we can still reach some conclusions about biased models, but must be open about the uncertainty.\n",
    " - The most powerful techniques are beyond the scope of this milestone. However, knowing some baseline techniques can be helpful in easy cases and can help guide a decision whether to pursue a more in-depth audit.\n",
    "\n",
    "#### Resources:\n",
    "\n",
    " - You should be able to proceed with this milestone without any additional resources. However, the following resources will provide useful context and more information.\n",
    "  - https://arxiv.org/pdf/1906.00285.pdf and accompanying video https://www.youtube.com/watch?v=z-ZI1VoA-O0]. Milestone 4 tracks this paper closely - the main difference is in methodology.\n",
    "  - https://arxiv.org/pdf/1811.11154.pdf - This paper demonstrates some of the weaknesses of proxy-based approaches\n",
    "  - https://github.com/cfpb/proxy-methodology - This repository contains the BISG proxy methodology\n",
    "  - https://amstat.tandfonline.com/doi/full/10.1080/2330443X.2018.1427012 - This paper explains the BISG proxy methodology"
   ]
  },
  {
   "cell_type": "markdown",
   "metadata": {
    "id": "2jNuOpjrcFkP"
   },
   "source": [
    "## Introduction"
   ]
  },
  {
   "cell_type": "markdown",
   "metadata": {
    "id": "_7vX-MgMcFkP"
   },
   "source": [
    "We can still assess algorithmic fairness when the protected class is unobserved, provided we have some way to deduce the protected class from the available data. The most famous real-world example of this is the BISG proxy, which uses a Naive Bayes model to predict race membership based on name and zipcode. As [Chen et al](https://arxiv.org/pdf/1811.11154.pdf) note, \"This methodology notably supported a $98 million fine against a major auto loan lender\".\n",
    "\n",
    "While the BISG proxy methodology is still used and developed, recent scholarship in machine fairness demonstrates some serious shortcomings and some new directions for modelling without access to protected class data. The fundamental issue is that proxy models, unless highly accurate, could skew the audit. For instance, [Chen et al](https://arxiv.org/pdf/1811.11154.pdf) showed the BISG methodology has been shown to overestimate true disparities. In summary, we need to exercise great care when building proxy models and imputing protected class data.\n",
    "\n",
    "In terms of new directions for assessing algorithmic fairness when the protected class is unobserved, an interesting paper released this year entitled [\"Assessing Algorithmic Fairness with Unobserved Protected Class Using Data Combination\"](https://arxiv.org/pdf/1906.00285.pdf) describes a methodology for estimating confidence intervals for bias metrics. While the methodology is too complex to review here, in the course of this milestone it will become clear why confidence intervals are so useful. It is well worth considering for any bias audit where the protected class is unavailable.\n",
    "\n",
    "Regardless of the chosen methodology, the general setup requires the following datasets:\n",
    " - a primary dataset, which contains input variables to the model and the model's final prediction\n",
    " - a secondary dataset, which contains some proxy variables which overlap with the primary dataset, and does contain the protected class labels\n",
    "     \n",
    "An example of a primary set and secondary set in a lending context with potential racial bias can be found below (proxy variables are surname and zipcode, as in BISG, and they can be found in both the primary and secondary sets)"
   ]
  },
  {
   "cell_type": "markdown",
   "metadata": {
    "id": "fsw2mDgOcFkP"
   },
   "source": [
    "## Setting up the problem"
   ]
  },
  {
   "cell_type": "markdown",
   "metadata": {
    "id": "PZsOLhPEcFkP"
   },
   "source": [
    "In our example, you are asked by the WHO to evaluate bias in a model which determines personalized warfarin dosage. A similar model built on the same dataset has already been audited using state-of-the-art partial identification sets in a recent paper by Kallus, Mao and Zhou. We will be using a simpler methodology.\n",
    "\n",
    "Warfarin is the world's most common anticoagulant, but the correct dosage for the desired effect changes significantly from person to person. Too little warfarin will fail to produce a coagulant effect, while too much warfarin can cause dangerous bleeding, stroke and death. \n",
    "\n",
    "In these circumstances, dosage by trial and error is dangerous, so the medical community has built models to predict the ideal warfarin dosage. These models can be found in section 8.2 of [\"Assessing Algorithmic Fairness with Unobserved Protected Class Using Data Combination\"](https://arxiv.org/pdf/1906.00285.pdf). The makers of the models note that genetic factors correlated with race are predictive of the outcome, so we can expect dosage and dosage prediction to differ by race. In this scenario, the WTO has asked you to audit the model's bias with respect to race. \n",
    "\n",
    "For this audit, we are going to simulate an environment where race data is not available. To audit the model's bias with respect to race, one method is to train a proxy model on a primary set as described above. Instead of approaching the problem blindly, you are given two categories of columns: genetic features, and medication features. "
   ]
  },
  {
   "cell_type": "markdown",
   "metadata": {
    "id": "QoxoagJscFkP"
   },
   "source": [
    "## Load libraries and dataset\n",
    "\n",
    " - The following code will load all necessary libraries and data. \n",
    " - The code should load:\n",
    "   - A primary and secondary dataset\n",
    "   - An initial model\n",
    "   - A set of genotype columns and a set of medication columns, which can be each used to train a proxy\n",
    "   - Columns initially used to train the model\n",
    "   - A true positive rate helper function"
   ]
  },
  {
   "cell_type": "code",
   "execution_count": 1,
   "metadata": {
    "id": "-wfybqsXcFkP"
   },
   "outputs": [],
   "source": [
    "import pandas as pd\n",
    "import pickle\n",
    "from sklearn.ensemble import RandomForestClassifier\n",
    "from sklearn.model_selection import train_test_split\n",
    "import sklearn"
   ]
  },
  {
   "cell_type": "code",
   "execution_count": 2,
   "metadata": {
    "id": "wR1NYsrDcFkQ"
   },
   "outputs": [
    {
     "name": "stderr",
     "output_type": "stream",
     "text": [
      "C:\\Users\\zbenm\\EMAN2\\envs\\bias-project\\lib\\site-packages\\sklearn\\base.py:329: UserWarning: Trying to unpickle estimator DecisionTreeClassifier from version 0.23.1 when using version 0.23.2. This might lead to breaking code or invalid results. Use at your own risk.\n",
      "  warnings.warn(\n",
      "C:\\Users\\zbenm\\EMAN2\\envs\\bias-project\\lib\\site-packages\\sklearn\\base.py:329: UserWarning: Trying to unpickle estimator RandomForestClassifier from version 0.23.1 when using version 0.23.2. This might lead to breaking code or invalid results. Use at your own risk.\n",
      "  warnings.warn(\n"
     ]
    }
   ],
   "source": [
    "%run \"./Milestone 4 declarations.ipynb\""
   ]
  },
  {
   "cell_type": "code",
   "execution_count": 3,
   "metadata": {
    "id": "19Jp6ISXcFkQ"
   },
   "outputs": [
    {
     "name": "stdout",
     "output_type": "stream",
     "text": [
      "Primary dataset\n"
     ]
    },
    {
     "data": {
      "text/html": [
       "<div>\n",
       "<style scoped>\n",
       "    .dataframe tbody tr th:only-of-type {\n",
       "        vertical-align: middle;\n",
       "    }\n",
       "\n",
       "    .dataframe tbody tr th {\n",
       "        vertical-align: top;\n",
       "    }\n",
       "\n",
       "    .dataframe thead th {\n",
       "        text-align: right;\n",
       "    }\n",
       "</style>\n",
       "<table border=\"1\" class=\"dataframe\">\n",
       "  <thead>\n",
       "    <tr style=\"text-align: right;\">\n",
       "      <th></th>\n",
       "      <th>Unnamed: 0</th>\n",
       "      <th>Project Site</th>\n",
       "      <th>Age</th>\n",
       "      <th>Height (cm)</th>\n",
       "      <th>Weight (kg)</th>\n",
       "      <th>Diabetes</th>\n",
       "      <th>Congestive Heart Failure and/or Cardiomyopathy</th>\n",
       "      <th>Valve Replacement</th>\n",
       "      <th>Aspirin</th>\n",
       "      <th>Acetaminophen or Paracetamol (Tylenol)</th>\n",
       "      <th>...</th>\n",
       "      <th>VKORC1 QC genotype: -4451 C&gt;A (861); Chr16:31018002; rs17880887; A/C</th>\n",
       "      <th>CYP2C9 consensus</th>\n",
       "      <th>VKORC1 -1639 consensus</th>\n",
       "      <th>VKORC1 497 consensus</th>\n",
       "      <th>VKORC1 1173 consensus</th>\n",
       "      <th>VKORC1 1542 consensus</th>\n",
       "      <th>VKORC1 3730 consensus</th>\n",
       "      <th>VKORC1 2255 consensus</th>\n",
       "      <th>VKORC1 -4451 consensus</th>\n",
       "      <th>target</th>\n",
       "    </tr>\n",
       "  </thead>\n",
       "  <tbody>\n",
       "    <tr>\n",
       "      <th>0</th>\n",
       "      <td>1163</td>\n",
       "      <td>3</td>\n",
       "      <td>75.0</td>\n",
       "      <td>150.114</td>\n",
       "      <td>54.0</td>\n",
       "      <td>-1.0</td>\n",
       "      <td>0.0</td>\n",
       "      <td>0.0</td>\n",
       "      <td>-1.0</td>\n",
       "      <td>-1.0</td>\n",
       "      <td>...</td>\n",
       "      <td>3.0</td>\n",
       "      <td>0.0</td>\n",
       "      <td>0.0</td>\n",
       "      <td>3.0</td>\n",
       "      <td>2.0</td>\n",
       "      <td>0.0</td>\n",
       "      <td>2.0</td>\n",
       "      <td>2.0</td>\n",
       "      <td>3.0</td>\n",
       "      <td>False</td>\n",
       "    </tr>\n",
       "    <tr>\n",
       "      <th>1</th>\n",
       "      <td>891</td>\n",
       "      <td>3</td>\n",
       "      <td>65.0</td>\n",
       "      <td>172.974</td>\n",
       "      <td>58.0</td>\n",
       "      <td>-1.0</td>\n",
       "      <td>0.0</td>\n",
       "      <td>0.0</td>\n",
       "      <td>-1.0</td>\n",
       "      <td>-1.0</td>\n",
       "      <td>...</td>\n",
       "      <td>3.0</td>\n",
       "      <td>0.0</td>\n",
       "      <td>1.0</td>\n",
       "      <td>3.0</td>\n",
       "      <td>1.0</td>\n",
       "      <td>1.0</td>\n",
       "      <td>1.0</td>\n",
       "      <td>1.0</td>\n",
       "      <td>3.0</td>\n",
       "      <td>False</td>\n",
       "    </tr>\n",
       "    <tr>\n",
       "      <th>2</th>\n",
       "      <td>5377</td>\n",
       "      <td>20</td>\n",
       "      <td>75.0</td>\n",
       "      <td>175.260</td>\n",
       "      <td>82.0</td>\n",
       "      <td>-1.0</td>\n",
       "      <td>0.0</td>\n",
       "      <td>0.0</td>\n",
       "      <td>1.0</td>\n",
       "      <td>-1.0</td>\n",
       "      <td>...</td>\n",
       "      <td>3.0</td>\n",
       "      <td>0.0</td>\n",
       "      <td>3.0</td>\n",
       "      <td>1.0</td>\n",
       "      <td>1.0</td>\n",
       "      <td>1.0</td>\n",
       "      <td>1.0</td>\n",
       "      <td>1.0</td>\n",
       "      <td>3.0</td>\n",
       "      <td>False</td>\n",
       "    </tr>\n",
       "    <tr>\n",
       "      <th>3</th>\n",
       "      <td>501</td>\n",
       "      <td>2</td>\n",
       "      <td>65.0</td>\n",
       "      <td>-1.000</td>\n",
       "      <td>101.0</td>\n",
       "      <td>0.0</td>\n",
       "      <td>0.0</td>\n",
       "      <td>0.0</td>\n",
       "      <td>1.0</td>\n",
       "      <td>0.0</td>\n",
       "      <td>...</td>\n",
       "      <td>3.0</td>\n",
       "      <td>4.0</td>\n",
       "      <td>3.0</td>\n",
       "      <td>2.0</td>\n",
       "      <td>3.0</td>\n",
       "      <td>1.0</td>\n",
       "      <td>3.0</td>\n",
       "      <td>3.0</td>\n",
       "      <td>3.0</td>\n",
       "      <td>False</td>\n",
       "    </tr>\n",
       "    <tr>\n",
       "      <th>4</th>\n",
       "      <td>2795</td>\n",
       "      <td>8</td>\n",
       "      <td>55.0</td>\n",
       "      <td>154.000</td>\n",
       "      <td>64.0</td>\n",
       "      <td>0.0</td>\n",
       "      <td>0.0</td>\n",
       "      <td>1.0</td>\n",
       "      <td>0.0</td>\n",
       "      <td>0.0</td>\n",
       "      <td>...</td>\n",
       "      <td>2.0</td>\n",
       "      <td>5.0</td>\n",
       "      <td>0.0</td>\n",
       "      <td>2.0</td>\n",
       "      <td>2.0</td>\n",
       "      <td>0.0</td>\n",
       "      <td>2.0</td>\n",
       "      <td>2.0</td>\n",
       "      <td>2.0</td>\n",
       "      <td>False</td>\n",
       "    </tr>\n",
       "    <tr>\n",
       "      <th>...</th>\n",
       "      <td>...</td>\n",
       "      <td>...</td>\n",
       "      <td>...</td>\n",
       "      <td>...</td>\n",
       "      <td>...</td>\n",
       "      <td>...</td>\n",
       "      <td>...</td>\n",
       "      <td>...</td>\n",
       "      <td>...</td>\n",
       "      <td>...</td>\n",
       "      <td>...</td>\n",
       "      <td>...</td>\n",
       "      <td>...</td>\n",
       "      <td>...</td>\n",
       "      <td>...</td>\n",
       "      <td>...</td>\n",
       "      <td>...</td>\n",
       "      <td>...</td>\n",
       "      <td>...</td>\n",
       "      <td>...</td>\n",
       "      <td>...</td>\n",
       "    </tr>\n",
       "    <tr>\n",
       "      <th>1258</th>\n",
       "      <td>1875</td>\n",
       "      <td>5</td>\n",
       "      <td>55.0</td>\n",
       "      <td>186.182</td>\n",
       "      <td>110.5</td>\n",
       "      <td>0.0</td>\n",
       "      <td>0.0</td>\n",
       "      <td>1.0</td>\n",
       "      <td>1.0</td>\n",
       "      <td>0.0</td>\n",
       "      <td>...</td>\n",
       "      <td>3.0</td>\n",
       "      <td>0.0</td>\n",
       "      <td>1.0</td>\n",
       "      <td>1.0</td>\n",
       "      <td>3.0</td>\n",
       "      <td>1.0</td>\n",
       "      <td>1.0</td>\n",
       "      <td>3.0</td>\n",
       "      <td>2.0</td>\n",
       "      <td>False</td>\n",
       "    </tr>\n",
       "    <tr>\n",
       "      <th>1259</th>\n",
       "      <td>2766</td>\n",
       "      <td>8</td>\n",
       "      <td>65.0</td>\n",
       "      <td>156.000</td>\n",
       "      <td>43.0</td>\n",
       "      <td>0.0</td>\n",
       "      <td>0.0</td>\n",
       "      <td>1.0</td>\n",
       "      <td>0.0</td>\n",
       "      <td>0.0</td>\n",
       "      <td>...</td>\n",
       "      <td>3.0</td>\n",
       "      <td>0.0</td>\n",
       "      <td>0.0</td>\n",
       "      <td>3.0</td>\n",
       "      <td>2.0</td>\n",
       "      <td>3.0</td>\n",
       "      <td>2.0</td>\n",
       "      <td>3.0</td>\n",
       "      <td>3.0</td>\n",
       "      <td>False</td>\n",
       "    </tr>\n",
       "    <tr>\n",
       "      <th>1260</th>\n",
       "      <td>3514</td>\n",
       "      <td>11</td>\n",
       "      <td>65.0</td>\n",
       "      <td>152.400</td>\n",
       "      <td>75.5</td>\n",
       "      <td>1.0</td>\n",
       "      <td>0.0</td>\n",
       "      <td>0.0</td>\n",
       "      <td>0.0</td>\n",
       "      <td>1.0</td>\n",
       "      <td>...</td>\n",
       "      <td>3.0</td>\n",
       "      <td>0.0</td>\n",
       "      <td>2.0</td>\n",
       "      <td>2.0</td>\n",
       "      <td>3.0</td>\n",
       "      <td>3.0</td>\n",
       "      <td>0.0</td>\n",
       "      <td>3.0</td>\n",
       "      <td>2.0</td>\n",
       "      <td>True</td>\n",
       "    </tr>\n",
       "    <tr>\n",
       "      <th>1261</th>\n",
       "      <td>215</td>\n",
       "      <td>1</td>\n",
       "      <td>45.0</td>\n",
       "      <td>172.720</td>\n",
       "      <td>102.5</td>\n",
       "      <td>-1.0</td>\n",
       "      <td>-1.0</td>\n",
       "      <td>-1.0</td>\n",
       "      <td>0.0</td>\n",
       "      <td>-1.0</td>\n",
       "      <td>...</td>\n",
       "      <td>3.0</td>\n",
       "      <td>0.0</td>\n",
       "      <td>2.0</td>\n",
       "      <td>2.0</td>\n",
       "      <td>3.0</td>\n",
       "      <td>2.0</td>\n",
       "      <td>0.0</td>\n",
       "      <td>3.0</td>\n",
       "      <td>3.0</td>\n",
       "      <td>True</td>\n",
       "    </tr>\n",
       "    <tr>\n",
       "      <th>1262</th>\n",
       "      <td>2372</td>\n",
       "      <td>7</td>\n",
       "      <td>75.0</td>\n",
       "      <td>163.322</td>\n",
       "      <td>87.8</td>\n",
       "      <td>0.0</td>\n",
       "      <td>0.0</td>\n",
       "      <td>0.0</td>\n",
       "      <td>0.0</td>\n",
       "      <td>-1.0</td>\n",
       "      <td>...</td>\n",
       "      <td>3.0</td>\n",
       "      <td>0.0</td>\n",
       "      <td>3.0</td>\n",
       "      <td>3.0</td>\n",
       "      <td>3.0</td>\n",
       "      <td>2.0</td>\n",
       "      <td>3.0</td>\n",
       "      <td>3.0</td>\n",
       "      <td>3.0</td>\n",
       "      <td>True</td>\n",
       "    </tr>\n",
       "  </tbody>\n",
       "</table>\n",
       "<p>1263 rows × 57 columns</p>\n",
       "</div>"
      ],
      "text/plain": [
       "      Unnamed: 0  Project Site   Age  Height (cm)  Weight (kg)  Diabetes  \\\n",
       "0           1163             3  75.0      150.114         54.0      -1.0   \n",
       "1            891             3  65.0      172.974         58.0      -1.0   \n",
       "2           5377            20  75.0      175.260         82.0      -1.0   \n",
       "3            501             2  65.0       -1.000        101.0       0.0   \n",
       "4           2795             8  55.0      154.000         64.0       0.0   \n",
       "...          ...           ...   ...          ...          ...       ...   \n",
       "1258        1875             5  55.0      186.182        110.5       0.0   \n",
       "1259        2766             8  65.0      156.000         43.0       0.0   \n",
       "1260        3514            11  65.0      152.400         75.5       1.0   \n",
       "1261         215             1  45.0      172.720        102.5      -1.0   \n",
       "1262        2372             7  75.0      163.322         87.8       0.0   \n",
       "\n",
       "      Congestive Heart Failure and/or Cardiomyopathy  Valve Replacement  \\\n",
       "0                                                0.0                0.0   \n",
       "1                                                0.0                0.0   \n",
       "2                                                0.0                0.0   \n",
       "3                                                0.0                0.0   \n",
       "4                                                0.0                1.0   \n",
       "...                                              ...                ...   \n",
       "1258                                             0.0                1.0   \n",
       "1259                                             0.0                1.0   \n",
       "1260                                             0.0                0.0   \n",
       "1261                                            -1.0               -1.0   \n",
       "1262                                             0.0                0.0   \n",
       "\n",
       "      Aspirin  Acetaminophen or Paracetamol (Tylenol)  ...  \\\n",
       "0        -1.0                                    -1.0  ...   \n",
       "1        -1.0                                    -1.0  ...   \n",
       "2         1.0                                    -1.0  ...   \n",
       "3         1.0                                     0.0  ...   \n",
       "4         0.0                                     0.0  ...   \n",
       "...       ...                                     ...  ...   \n",
       "1258      1.0                                     0.0  ...   \n",
       "1259      0.0                                     0.0  ...   \n",
       "1260      0.0                                     1.0  ...   \n",
       "1261      0.0                                    -1.0  ...   \n",
       "1262      0.0                                    -1.0  ...   \n",
       "\n",
       "      VKORC1 QC genotype: -4451 C>A (861); Chr16:31018002; rs17880887; A/C  \\\n",
       "0                                                   3.0                      \n",
       "1                                                   3.0                      \n",
       "2                                                   3.0                      \n",
       "3                                                   3.0                      \n",
       "4                                                   2.0                      \n",
       "...                                                 ...                      \n",
       "1258                                                3.0                      \n",
       "1259                                                3.0                      \n",
       "1260                                                3.0                      \n",
       "1261                                                3.0                      \n",
       "1262                                                3.0                      \n",
       "\n",
       "      CYP2C9 consensus  VKORC1 -1639 consensus  VKORC1 497 consensus  \\\n",
       "0                  0.0                     0.0                   3.0   \n",
       "1                  0.0                     1.0                   3.0   \n",
       "2                  0.0                     3.0                   1.0   \n",
       "3                  4.0                     3.0                   2.0   \n",
       "4                  5.0                     0.0                   2.0   \n",
       "...                ...                     ...                   ...   \n",
       "1258               0.0                     1.0                   1.0   \n",
       "1259               0.0                     0.0                   3.0   \n",
       "1260               0.0                     2.0                   2.0   \n",
       "1261               0.0                     2.0                   2.0   \n",
       "1262               0.0                     3.0                   3.0   \n",
       "\n",
       "      VKORC1 1173 consensus  VKORC1 1542 consensus  VKORC1 3730 consensus  \\\n",
       "0                       2.0                    0.0                    2.0   \n",
       "1                       1.0                    1.0                    1.0   \n",
       "2                       1.0                    1.0                    1.0   \n",
       "3                       3.0                    1.0                    3.0   \n",
       "4                       2.0                    0.0                    2.0   \n",
       "...                     ...                    ...                    ...   \n",
       "1258                    3.0                    1.0                    1.0   \n",
       "1259                    2.0                    3.0                    2.0   \n",
       "1260                    3.0                    3.0                    0.0   \n",
       "1261                    3.0                    2.0                    0.0   \n",
       "1262                    3.0                    2.0                    3.0   \n",
       "\n",
       "      VKORC1 2255 consensus  VKORC1 -4451 consensus  target  \n",
       "0                       2.0                     3.0   False  \n",
       "1                       1.0                     3.0   False  \n",
       "2                       1.0                     3.0   False  \n",
       "3                       3.0                     3.0   False  \n",
       "4                       2.0                     2.0   False  \n",
       "...                     ...                     ...     ...  \n",
       "1258                    3.0                     2.0   False  \n",
       "1259                    3.0                     3.0   False  \n",
       "1260                    3.0                     2.0    True  \n",
       "1261                    3.0                     3.0    True  \n",
       "1262                    3.0                     3.0    True  \n",
       "\n",
       "[1263 rows x 57 columns]"
      ]
     },
     "metadata": {},
     "output_type": "display_data"
    },
    {
     "name": "stdout",
     "output_type": "stream",
     "text": [
      "Secondary dataset\n"
     ]
    },
    {
     "data": {
      "text/html": [
       "<div>\n",
       "<style scoped>\n",
       "    .dataframe tbody tr th:only-of-type {\n",
       "        vertical-align: middle;\n",
       "    }\n",
       "\n",
       "    .dataframe tbody tr th {\n",
       "        vertical-align: top;\n",
       "    }\n",
       "\n",
       "    .dataframe thead th {\n",
       "        text-align: right;\n",
       "    }\n",
       "</style>\n",
       "<table border=\"1\" class=\"dataframe\">\n",
       "  <thead>\n",
       "    <tr style=\"text-align: right;\">\n",
       "      <th></th>\n",
       "      <th>Unnamed: 0</th>\n",
       "      <th>Cyp2C9 genotypes</th>\n",
       "      <th>Genotyped QC Cyp2C9*2</th>\n",
       "      <th>Genotyped QC Cyp2C9*3</th>\n",
       "      <th>Combined QC CYP2C9</th>\n",
       "      <th>VKORC1 genotype: -1639 G&gt;A (3673); chr16:31015190; rs9923231; C/T</th>\n",
       "      <th>VKORC1 QC genotype: -1639 G&gt;A (3673); chr16:31015190; rs9923231; C/T</th>\n",
       "      <th>VKORC1 genotype: 497T&gt;G (5808); chr16:31013055; rs2884737; A/C</th>\n",
       "      <th>VKORC1 QC genotype: 497T&gt;G (5808); chr16:31013055; rs2884737; A/C</th>\n",
       "      <th>VKORC1 genotype: 1173 C&gt;T(6484); chr16:31012379; rs9934438; A/G</th>\n",
       "      <th>...</th>\n",
       "      <th>Cerivastatin (Baycol)</th>\n",
       "      <th>Amiodarone (Cordarone)</th>\n",
       "      <th>Carbamazepine (Tegretol)</th>\n",
       "      <th>Phenytoin (Dilantin)</th>\n",
       "      <th>Rifampin or Rifampicin</th>\n",
       "      <th>Sulfonamide Antibiotics</th>\n",
       "      <th>Macrolide Antibiotics</th>\n",
       "      <th>Anti-fungal Azoles</th>\n",
       "      <th>Herbal Medications, Vitamins, Supplements</th>\n",
       "      <th>Race (OMB)</th>\n",
       "    </tr>\n",
       "  </thead>\n",
       "  <tbody>\n",
       "    <tr>\n",
       "      <th>0</th>\n",
       "      <td>5360</td>\n",
       "      <td>4.0</td>\n",
       "      <td>1.0</td>\n",
       "      <td>0.0</td>\n",
       "      <td>1.0</td>\n",
       "      <td>2.0</td>\n",
       "      <td>2.0</td>\n",
       "      <td>2.0</td>\n",
       "      <td>2.0</td>\n",
       "      <td>0.0</td>\n",
       "      <td>...</td>\n",
       "      <td>-1.0</td>\n",
       "      <td>0.0</td>\n",
       "      <td>-1.0</td>\n",
       "      <td>-1.0</td>\n",
       "      <td>-1.0</td>\n",
       "      <td>-1.0</td>\n",
       "      <td>-1.0</td>\n",
       "      <td>-1.0</td>\n",
       "      <td>-1.0</td>\n",
       "      <td>White</td>\n",
       "    </tr>\n",
       "    <tr>\n",
       "      <th>1</th>\n",
       "      <td>709</td>\n",
       "      <td>0.0</td>\n",
       "      <td>3.0</td>\n",
       "      <td>3.0</td>\n",
       "      <td>6.0</td>\n",
       "      <td>0.0</td>\n",
       "      <td>3.0</td>\n",
       "      <td>3.0</td>\n",
       "      <td>3.0</td>\n",
       "      <td>2.0</td>\n",
       "      <td>...</td>\n",
       "      <td>-1.0</td>\n",
       "      <td>-1.0</td>\n",
       "      <td>-1.0</td>\n",
       "      <td>-1.0</td>\n",
       "      <td>-1.0</td>\n",
       "      <td>-1.0</td>\n",
       "      <td>-1.0</td>\n",
       "      <td>-1.0</td>\n",
       "      <td>-1.0</td>\n",
       "      <td>Asian</td>\n",
       "    </tr>\n",
       "    <tr>\n",
       "      <th>2</th>\n",
       "      <td>65</td>\n",
       "      <td>0.0</td>\n",
       "      <td>3.0</td>\n",
       "      <td>3.0</td>\n",
       "      <td>6.0</td>\n",
       "      <td>2.0</td>\n",
       "      <td>3.0</td>\n",
       "      <td>2.0</td>\n",
       "      <td>3.0</td>\n",
       "      <td>3.0</td>\n",
       "      <td>...</td>\n",
       "      <td>-1.0</td>\n",
       "      <td>0.0</td>\n",
       "      <td>-1.0</td>\n",
       "      <td>-1.0</td>\n",
       "      <td>-1.0</td>\n",
       "      <td>-1.0</td>\n",
       "      <td>-1.0</td>\n",
       "      <td>-1.0</td>\n",
       "      <td>-1.0</td>\n",
       "      <td>White</td>\n",
       "    </tr>\n",
       "    <tr>\n",
       "      <th>3</th>\n",
       "      <td>3723</td>\n",
       "      <td>0.0</td>\n",
       "      <td>3.0</td>\n",
       "      <td>3.0</td>\n",
       "      <td>6.0</td>\n",
       "      <td>2.0</td>\n",
       "      <td>3.0</td>\n",
       "      <td>3.0</td>\n",
       "      <td>3.0</td>\n",
       "      <td>0.0</td>\n",
       "      <td>...</td>\n",
       "      <td>0.0</td>\n",
       "      <td>0.0</td>\n",
       "      <td>0.0</td>\n",
       "      <td>0.0</td>\n",
       "      <td>0.0</td>\n",
       "      <td>0.0</td>\n",
       "      <td>0.0</td>\n",
       "      <td>0.0</td>\n",
       "      <td>-1.0</td>\n",
       "      <td>White</td>\n",
       "    </tr>\n",
       "    <tr>\n",
       "      <th>4</th>\n",
       "      <td>5470</td>\n",
       "      <td>0.0</td>\n",
       "      <td>3.0</td>\n",
       "      <td>3.0</td>\n",
       "      <td>6.0</td>\n",
       "      <td>3.0</td>\n",
       "      <td>3.0</td>\n",
       "      <td>3.0</td>\n",
       "      <td>3.0</td>\n",
       "      <td>0.0</td>\n",
       "      <td>...</td>\n",
       "      <td>-1.0</td>\n",
       "      <td>0.0</td>\n",
       "      <td>0.0</td>\n",
       "      <td>0.0</td>\n",
       "      <td>0.0</td>\n",
       "      <td>0.0</td>\n",
       "      <td>0.0</td>\n",
       "      <td>0.0</td>\n",
       "      <td>-1.0</td>\n",
       "      <td>White</td>\n",
       "    </tr>\n",
       "    <tr>\n",
       "      <th>...</th>\n",
       "      <td>...</td>\n",
       "      <td>...</td>\n",
       "      <td>...</td>\n",
       "      <td>...</td>\n",
       "      <td>...</td>\n",
       "      <td>...</td>\n",
       "      <td>...</td>\n",
       "      <td>...</td>\n",
       "      <td>...</td>\n",
       "      <td>...</td>\n",
       "      <td>...</td>\n",
       "      <td>...</td>\n",
       "      <td>...</td>\n",
       "      <td>...</td>\n",
       "      <td>...</td>\n",
       "      <td>...</td>\n",
       "      <td>...</td>\n",
       "      <td>...</td>\n",
       "      <td>...</td>\n",
       "      <td>...</td>\n",
       "      <td>...</td>\n",
       "    </tr>\n",
       "    <tr>\n",
       "      <th>2520</th>\n",
       "      <td>3791</td>\n",
       "      <td>0.0</td>\n",
       "      <td>3.0</td>\n",
       "      <td>3.0</td>\n",
       "      <td>6.0</td>\n",
       "      <td>2.0</td>\n",
       "      <td>3.0</td>\n",
       "      <td>3.0</td>\n",
       "      <td>3.0</td>\n",
       "      <td>0.0</td>\n",
       "      <td>...</td>\n",
       "      <td>0.0</td>\n",
       "      <td>0.0</td>\n",
       "      <td>0.0</td>\n",
       "      <td>0.0</td>\n",
       "      <td>0.0</td>\n",
       "      <td>0.0</td>\n",
       "      <td>0.0</td>\n",
       "      <td>0.0</td>\n",
       "      <td>0.0</td>\n",
       "      <td>Black or African American</td>\n",
       "    </tr>\n",
       "    <tr>\n",
       "      <th>2521</th>\n",
       "      <td>3650</td>\n",
       "      <td>0.0</td>\n",
       "      <td>3.0</td>\n",
       "      <td>3.0</td>\n",
       "      <td>6.0</td>\n",
       "      <td>1.0</td>\n",
       "      <td>3.0</td>\n",
       "      <td>1.0</td>\n",
       "      <td>3.0</td>\n",
       "      <td>1.0</td>\n",
       "      <td>...</td>\n",
       "      <td>0.0</td>\n",
       "      <td>0.0</td>\n",
       "      <td>0.0</td>\n",
       "      <td>0.0</td>\n",
       "      <td>0.0</td>\n",
       "      <td>0.0</td>\n",
       "      <td>0.0</td>\n",
       "      <td>0.0</td>\n",
       "      <td>-1.0</td>\n",
       "      <td>White</td>\n",
       "    </tr>\n",
       "    <tr>\n",
       "      <th>2522</th>\n",
       "      <td>3559</td>\n",
       "      <td>0.0</td>\n",
       "      <td>3.0</td>\n",
       "      <td>3.0</td>\n",
       "      <td>6.0</td>\n",
       "      <td>2.0</td>\n",
       "      <td>3.0</td>\n",
       "      <td>2.0</td>\n",
       "      <td>3.0</td>\n",
       "      <td>3.0</td>\n",
       "      <td>...</td>\n",
       "      <td>0.0</td>\n",
       "      <td>0.0</td>\n",
       "      <td>0.0</td>\n",
       "      <td>0.0</td>\n",
       "      <td>0.0</td>\n",
       "      <td>0.0</td>\n",
       "      <td>0.0</td>\n",
       "      <td>0.0</td>\n",
       "      <td>-1.0</td>\n",
       "      <td>White</td>\n",
       "    </tr>\n",
       "    <tr>\n",
       "      <th>2523</th>\n",
       "      <td>5534</td>\n",
       "      <td>4.0</td>\n",
       "      <td>3.0</td>\n",
       "      <td>3.0</td>\n",
       "      <td>6.0</td>\n",
       "      <td>3.0</td>\n",
       "      <td>3.0</td>\n",
       "      <td>3.0</td>\n",
       "      <td>3.0</td>\n",
       "      <td>1.0</td>\n",
       "      <td>...</td>\n",
       "      <td>-1.0</td>\n",
       "      <td>0.0</td>\n",
       "      <td>0.0</td>\n",
       "      <td>0.0</td>\n",
       "      <td>0.0</td>\n",
       "      <td>0.0</td>\n",
       "      <td>0.0</td>\n",
       "      <td>0.0</td>\n",
       "      <td>-1.0</td>\n",
       "      <td>White</td>\n",
       "    </tr>\n",
       "    <tr>\n",
       "      <th>2524</th>\n",
       "      <td>703</td>\n",
       "      <td>0.0</td>\n",
       "      <td>3.0</td>\n",
       "      <td>3.0</td>\n",
       "      <td>6.0</td>\n",
       "      <td>0.0</td>\n",
       "      <td>3.0</td>\n",
       "      <td>3.0</td>\n",
       "      <td>3.0</td>\n",
       "      <td>2.0</td>\n",
       "      <td>...</td>\n",
       "      <td>-1.0</td>\n",
       "      <td>-1.0</td>\n",
       "      <td>-1.0</td>\n",
       "      <td>-1.0</td>\n",
       "      <td>-1.0</td>\n",
       "      <td>-1.0</td>\n",
       "      <td>-1.0</td>\n",
       "      <td>-1.0</td>\n",
       "      <td>-1.0</td>\n",
       "      <td>Asian</td>\n",
       "    </tr>\n",
       "  </tbody>\n",
       "</table>\n",
       "<p>2525 rows × 46 columns</p>\n",
       "</div>"
      ],
      "text/plain": [
       "      Unnamed: 0  Cyp2C9 genotypes  Genotyped QC Cyp2C9*2  \\\n",
       "0           5360               4.0                    1.0   \n",
       "1            709               0.0                    3.0   \n",
       "2             65               0.0                    3.0   \n",
       "3           3723               0.0                    3.0   \n",
       "4           5470               0.0                    3.0   \n",
       "...          ...               ...                    ...   \n",
       "2520        3791               0.0                    3.0   \n",
       "2521        3650               0.0                    3.0   \n",
       "2522        3559               0.0                    3.0   \n",
       "2523        5534               4.0                    3.0   \n",
       "2524         703               0.0                    3.0   \n",
       "\n",
       "      Genotyped QC Cyp2C9*3  Combined QC CYP2C9  \\\n",
       "0                       0.0                 1.0   \n",
       "1                       3.0                 6.0   \n",
       "2                       3.0                 6.0   \n",
       "3                       3.0                 6.0   \n",
       "4                       3.0                 6.0   \n",
       "...                     ...                 ...   \n",
       "2520                    3.0                 6.0   \n",
       "2521                    3.0                 6.0   \n",
       "2522                    3.0                 6.0   \n",
       "2523                    3.0                 6.0   \n",
       "2524                    3.0                 6.0   \n",
       "\n",
       "      VKORC1 genotype: -1639 G>A (3673); chr16:31015190; rs9923231; C/T  \\\n",
       "0                                                   2.0                   \n",
       "1                                                   0.0                   \n",
       "2                                                   2.0                   \n",
       "3                                                   2.0                   \n",
       "4                                                   3.0                   \n",
       "...                                                 ...                   \n",
       "2520                                                2.0                   \n",
       "2521                                                1.0                   \n",
       "2522                                                2.0                   \n",
       "2523                                                3.0                   \n",
       "2524                                                0.0                   \n",
       "\n",
       "      VKORC1 QC genotype: -1639 G>A (3673); chr16:31015190; rs9923231; C/T  \\\n",
       "0                                                   2.0                      \n",
       "1                                                   3.0                      \n",
       "2                                                   3.0                      \n",
       "3                                                   3.0                      \n",
       "4                                                   3.0                      \n",
       "...                                                 ...                      \n",
       "2520                                                3.0                      \n",
       "2521                                                3.0                      \n",
       "2522                                                3.0                      \n",
       "2523                                                3.0                      \n",
       "2524                                                3.0                      \n",
       "\n",
       "      VKORC1 genotype: 497T>G (5808); chr16:31013055; rs2884737; A/C  \\\n",
       "0                                                   2.0                \n",
       "1                                                   3.0                \n",
       "2                                                   2.0                \n",
       "3                                                   3.0                \n",
       "4                                                   3.0                \n",
       "...                                                 ...                \n",
       "2520                                                3.0                \n",
       "2521                                                1.0                \n",
       "2522                                                2.0                \n",
       "2523                                                3.0                \n",
       "2524                                                3.0                \n",
       "\n",
       "      VKORC1 QC genotype: 497T>G (5808); chr16:31013055; rs2884737; A/C  \\\n",
       "0                                                   2.0                   \n",
       "1                                                   3.0                   \n",
       "2                                                   3.0                   \n",
       "3                                                   3.0                   \n",
       "4                                                   3.0                   \n",
       "...                                                 ...                   \n",
       "2520                                                3.0                   \n",
       "2521                                                3.0                   \n",
       "2522                                                3.0                   \n",
       "2523                                                3.0                   \n",
       "2524                                                3.0                   \n",
       "\n",
       "      VKORC1 genotype: 1173 C>T(6484); chr16:31012379; rs9934438; A/G  ...  \\\n",
       "0                                                   0.0                ...   \n",
       "1                                                   2.0                ...   \n",
       "2                                                   3.0                ...   \n",
       "3                                                   0.0                ...   \n",
       "4                                                   0.0                ...   \n",
       "...                                                 ...                ...   \n",
       "2520                                                0.0                ...   \n",
       "2521                                                1.0                ...   \n",
       "2522                                                3.0                ...   \n",
       "2523                                                1.0                ...   \n",
       "2524                                                2.0                ...   \n",
       "\n",
       "      Cerivastatin (Baycol)  Amiodarone (Cordarone)  Carbamazepine (Tegretol)  \\\n",
       "0                      -1.0                     0.0                      -1.0   \n",
       "1                      -1.0                    -1.0                      -1.0   \n",
       "2                      -1.0                     0.0                      -1.0   \n",
       "3                       0.0                     0.0                       0.0   \n",
       "4                      -1.0                     0.0                       0.0   \n",
       "...                     ...                     ...                       ...   \n",
       "2520                    0.0                     0.0                       0.0   \n",
       "2521                    0.0                     0.0                       0.0   \n",
       "2522                    0.0                     0.0                       0.0   \n",
       "2523                   -1.0                     0.0                       0.0   \n",
       "2524                   -1.0                    -1.0                      -1.0   \n",
       "\n",
       "      Phenytoin (Dilantin)  Rifampin or Rifampicin  Sulfonamide Antibiotics  \\\n",
       "0                     -1.0                    -1.0                     -1.0   \n",
       "1                     -1.0                    -1.0                     -1.0   \n",
       "2                     -1.0                    -1.0                     -1.0   \n",
       "3                      0.0                     0.0                      0.0   \n",
       "4                      0.0                     0.0                      0.0   \n",
       "...                    ...                     ...                      ...   \n",
       "2520                   0.0                     0.0                      0.0   \n",
       "2521                   0.0                     0.0                      0.0   \n",
       "2522                   0.0                     0.0                      0.0   \n",
       "2523                   0.0                     0.0                      0.0   \n",
       "2524                  -1.0                    -1.0                     -1.0   \n",
       "\n",
       "      Macrolide Antibiotics  Anti-fungal Azoles  \\\n",
       "0                      -1.0                -1.0   \n",
       "1                      -1.0                -1.0   \n",
       "2                      -1.0                -1.0   \n",
       "3                       0.0                 0.0   \n",
       "4                       0.0                 0.0   \n",
       "...                     ...                 ...   \n",
       "2520                    0.0                 0.0   \n",
       "2521                    0.0                 0.0   \n",
       "2522                    0.0                 0.0   \n",
       "2523                    0.0                 0.0   \n",
       "2524                   -1.0                -1.0   \n",
       "\n",
       "      Herbal Medications, Vitamins, Supplements                 Race (OMB)  \n",
       "0                                          -1.0                      White  \n",
       "1                                          -1.0                      Asian  \n",
       "2                                          -1.0                      White  \n",
       "3                                          -1.0                      White  \n",
       "4                                          -1.0                      White  \n",
       "...                                         ...                        ...  \n",
       "2520                                        0.0  Black or African American  \n",
       "2521                                       -1.0                      White  \n",
       "2522                                       -1.0                      White  \n",
       "2523                                       -1.0                      White  \n",
       "2524                                       -1.0                      Asian  \n",
       "\n",
       "[2525 rows x 46 columns]"
      ]
     },
     "metadata": {},
     "output_type": "display_data"
    },
    {
     "name": "stdout",
     "output_type": "stream",
     "text": [
      "Confirm model loaded\n",
      "Genotype columns:\n",
      " ['Cyp2C9 genotypes', 'Genotyped QC Cyp2C9*2', 'Genotyped QC Cyp2C9*3', 'Combined QC CYP2C9', 'VKORC1 genotype: -1639 G>A (3673); chr16:31015190; rs9923231; C/T', 'VKORC1 QC genotype: -1639 G>A (3673); chr16:31015190; rs9923231; C/T', 'VKORC1 genotype: 497T>G (5808); chr16:31013055; rs2884737; A/C', 'VKORC1 QC genotype: 497T>G (5808); chr16:31013055; rs2884737; A/C', 'VKORC1 genotype: 1173 C>T(6484); chr16:31012379; rs9934438; A/G', 'VKORC1 QC genotype: 1173 C>T(6484); chr16:31012379; rs9934438; A/G', 'VKORC1 genotype: 1542G>C (6853); chr16:31012010; rs8050894; C/G', 'VKORC1 QC genotype: 1542G>C (6853); chr16:31012010; rs8050894; C/G', 'VKORC1 genotype: 3730 G>A (9041); chr16:31009822; rs7294;  A/G', 'VKORC1 QC genotype: 3730 G>A (9041); chr16:31009822; rs7294;  A/G', 'VKORC1 genotype: 2255C>T (7566); chr16:31011297; rs2359612; A/G', 'VKORC1 QC genotype: 2255C>T (7566); chr16:31011297; rs2359612; A/G', 'VKORC1 genotype: -4451 C>A (861); Chr16:31018002; rs17880887; A/C', 'VKORC1 QC genotype: -4451 C>A (861); Chr16:31018002; rs17880887; A/C', 'CYP2C9 consensus', 'VKORC1 -1639 consensus', 'VKORC1 497 consensus', 'VKORC1 1173 consensus', 'VKORC1 1542 consensus', 'VKORC1 3730 consensus', 'VKORC1 2255 consensus', 'VKORC1 -4451 consensus'] \n",
      "\n",
      "\n",
      "Medication columns:\n",
      " ['Aspirin', 'Acetaminophen or Paracetamol (Tylenol)', 'Was Dose of Acetaminophen or Paracetamol (Tylenol) >1300mg/day', 'Simvastatin (Zocor)', 'Atorvastatin (Lipitor)', 'Fluvastatin (Lescol)', 'Lovastatin (Mevacor)', 'Pravastatin (Pravachol)', 'Rosuvastatin (Crestor)', 'Cerivastatin (Baycol)', 'Amiodarone (Cordarone)', 'Carbamazepine (Tegretol)', 'Phenytoin (Dilantin)', 'Rifampin or Rifampicin', 'Sulfonamide Antibiotics', 'Macrolide Antibiotics', 'Anti-fungal Azoles', 'Herbal Medications, Vitamins, Supplements'] \n",
      "\n",
      "\n",
      "Model training columns:\n",
      " ['Project Site', 'Age', 'Height (cm)', 'Weight (kg)', 'Diabetes', 'Congestive Heart Failure and/or Cardiomyopathy', 'Valve Replacement', 'Aspirin', 'Acetaminophen or Paracetamol (Tylenol)', 'Was Dose of Acetaminophen or Paracetamol (Tylenol) >1300mg/day', 'Simvastatin (Zocor)', 'Atorvastatin (Lipitor)', 'Fluvastatin (Lescol)', 'Lovastatin (Mevacor)', 'Pravastatin (Pravachol)', 'Rosuvastatin (Crestor)', 'Cerivastatin (Baycol)', 'Amiodarone (Cordarone)', 'Carbamazepine (Tegretol)', 'Phenytoin (Dilantin)', 'Rifampin or Rifampicin', 'Sulfonamide Antibiotics', 'Macrolide Antibiotics', 'Anti-fungal Azoles', 'Herbal Medications, Vitamins, Supplements', 'Target INR', 'Subject Reached Stable Dose of Warfarin', 'INR on Reported Therapeutic Dose of Warfarin', 'Current Smoker', 'Cyp2C9 genotypes', 'Genotyped QC Cyp2C9*2', 'Genotyped QC Cyp2C9*3', 'Combined QC CYP2C9', 'VKORC1 genotype: -1639 G>A (3673); chr16:31015190; rs9923231; C/T', 'VKORC1 QC genotype: -1639 G>A (3673); chr16:31015190; rs9923231; C/T', 'VKORC1 genotype: 497T>G (5808); chr16:31013055; rs2884737; A/C', 'VKORC1 QC genotype: 497T>G (5808); chr16:31013055; rs2884737; A/C', 'VKORC1 genotype: 1173 C>T(6484); chr16:31012379; rs9934438; A/G', 'VKORC1 QC genotype: 1173 C>T(6484); chr16:31012379; rs9934438; A/G', 'VKORC1 genotype: 1542G>C (6853); chr16:31012010; rs8050894; C/G', 'VKORC1 QC genotype: 1542G>C (6853); chr16:31012010; rs8050894; C/G', 'VKORC1 genotype: 3730 G>A (9041); chr16:31009822; rs7294;  A/G', 'VKORC1 QC genotype: 3730 G>A (9041); chr16:31009822; rs7294;  A/G', 'VKORC1 genotype: 2255C>T (7566); chr16:31011297; rs2359612; A/G', 'VKORC1 QC genotype: 2255C>T (7566); chr16:31011297; rs2359612; A/G', 'VKORC1 genotype: -4451 C>A (861); Chr16:31018002; rs17880887; A/C', 'VKORC1 QC genotype: -4451 C>A (861); Chr16:31018002; rs17880887; A/C', 'CYP2C9 consensus', 'VKORC1 -1639 consensus', 'VKORC1 497 consensus', 'VKORC1 1173 consensus', 'VKORC1 1542 consensus', 'VKORC1 3730 consensus', 'VKORC1 2255 consensus', 'VKORC1 -4451 consensus'] \n",
      "\n",
      "\n",
      "Help on function tpr in module __main__:\n",
      "\n",
      "tpr(dataset, race)\n",
      "    DataFrame, str -> str\n",
      "    Calculates true positive rates and disparities based on race\n",
      "\n",
      "None\n"
     ]
    },
    {
     "data": {
      "text/plain": [
       "RandomForestClassifier(random_state=42)"
      ]
     },
     "execution_count": 3,
     "metadata": {},
     "output_type": "execute_result"
    }
   ],
   "source": [
    "print('Primary dataset')\n",
    "display(primary)\n",
    "print('Secondary dataset')\n",
    "display(secondary)\n",
    "print('Confirm model loaded')\n",
    "print('Genotype columns:\\n', genotype_columns,'\\n\\n')\n",
    "print('Medication columns:\\n', medication_columns,'\\n\\n')\n",
    "print('Model training columns:\\n', training_columns,'\\n\\n')\n",
    "print(help(tpr))\n",
    "model"
   ]
  },
  {
   "cell_type": "markdown",
   "metadata": {
    "id": "CGDYPmF4cFkQ"
   },
   "source": [
    "## Given the supplied training columns, use the model to predict warfarin dosage for the primary set\n",
    "\n",
    " - If loaded properly, you can just use model.predict on the training columns of the primary dataset"
   ]
  },
  {
   "cell_type": "code",
   "execution_count": 8,
   "metadata": {
    "id": "eyS-H0DxcFkQ"
   },
   "outputs": [],
   "source": [
    "predictions = model.predict(primary[training_columns])"
   ]
  },
  {
   "cell_type": "code",
   "execution_count": 9,
   "metadata": {},
   "outputs": [],
   "source": [
    "from sklearn.metrics import classification_report"
   ]
  },
  {
   "cell_type": "code",
   "execution_count": 11,
   "metadata": {},
   "outputs": [
    {
     "name": "stdout",
     "output_type": "stream",
     "text": [
      "              precision    recall  f1-score   support\n",
      "\n",
      "       False       0.80      0.87      0.84       876\n",
      "        True       0.64      0.52      0.57       387\n",
      "\n",
      "    accuracy                           0.76      1263\n",
      "   macro avg       0.72      0.69      0.70      1263\n",
      "weighted avg       0.75      0.76      0.76      1263\n",
      "\n"
     ]
    }
   ],
   "source": [
    "print(classification_report(primary['target'], predictions))"
   ]
  },
  {
   "cell_type": "markdown",
   "metadata": {
    "id": "MNZhI9A2cFkQ"
   },
   "source": [
    "## Train a proxy model on the secondary set to impute the missing protected class data\n",
    "\n",
    " - The overall goal of this section is to train some proxy models to predict race.\n",
    " - The only requirement for a proxy model is that its inputs are available in both primary and secondary sets, and that it predicts the column we are trying to impute (race). A simple Random Forest or LightGBM classifier, trained on the secondary set, will suffice. **Make sure you hold out a test portion of the secondary set to test performance.**\n",
    " - Based on the column lists approved by domain experts (medication_columns, genotype_columns), three models are possible: one model uses medication_columns to predict race, one uses genotype_columns to predict race, and one uses both.\n",
    " - Create a confusion matrix showing each proxy model's performance on the same test set\n",
    " - Conclude which model has the best performance. We will use it going forward."
   ]
  },
  {
   "cell_type": "code",
   "execution_count": 12,
   "metadata": {
    "id": "dPVGRNO8cFkQ"
   },
   "outputs": [],
   "source": [
    "from sklearn.model_selection import train_test_split"
   ]
  },
  {
   "cell_type": "code",
   "execution_count": 13,
   "metadata": {},
   "outputs": [],
   "source": [
    "X_train, X_test, y_train, y_test = train_test_split(secondary[medication_columns + genotype_columns],\n",
    "                                                    secondary['Race (OMB)'])"
   ]
  },
  {
   "cell_type": "code",
   "execution_count": 18,
   "metadata": {},
   "outputs": [
    {
     "data": {
      "text/plain": [
       "((1893, 44), (632, 44))"
      ]
     },
     "execution_count": 18,
     "metadata": {},
     "output_type": "execute_result"
    }
   ],
   "source": [
    "X_train.shape, X_test.shape"
   ]
  },
  {
   "cell_type": "code",
   "execution_count": 15,
   "metadata": {},
   "outputs": [],
   "source": [
    "from sklearn.ensemble import RandomForestClassifier"
   ]
  },
  {
   "cell_type": "code",
   "execution_count": 16,
   "metadata": {},
   "outputs": [],
   "source": [
    "rf1 = RandomForestClassifier().fit(X_train[medication_columns], y_train)"
   ]
  },
  {
   "cell_type": "code",
   "execution_count": 21,
   "metadata": {},
   "outputs": [
    {
     "name": "stdout",
     "output_type": "stream",
     "text": [
      "                           precision    recall  f1-score   support\n",
      "\n",
      "                    Asian       0.78      0.98      0.87       211\n",
      "Black or African American       0.61      0.40      0.48        63\n",
      "                    White       0.90      0.82      0.86       358\n",
      "\n",
      "                 accuracy                           0.83       632\n",
      "                macro avg       0.76      0.73      0.74       632\n",
      "             weighted avg       0.83      0.83      0.82       632\n",
      "\n"
     ]
    }
   ],
   "source": [
    "rf1_predictions = rf1.predict(X_test[medication_columns]); print(classification_report(y_test, rf1_predictions))"
   ]
  },
  {
   "cell_type": "code",
   "execution_count": 22,
   "metadata": {},
   "outputs": [],
   "source": [
    "rf2 = RandomForestClassifier().fit(X_train[genotype_columns], y_train)"
   ]
  },
  {
   "cell_type": "code",
   "execution_count": 24,
   "metadata": {},
   "outputs": [
    {
     "name": "stdout",
     "output_type": "stream",
     "text": [
      "                           precision    recall  f1-score   support\n",
      "\n",
      "                    Asian       0.97      0.97      0.97       211\n",
      "Black or African American       0.67      0.68      0.68        63\n",
      "                    White       0.93      0.93      0.93       358\n",
      "\n",
      "                 accuracy                           0.92       632\n",
      "                macro avg       0.86      0.86      0.86       632\n",
      "             weighted avg       0.92      0.92      0.92       632\n",
      "\n"
     ]
    }
   ],
   "source": [
    "rf2_predictions = rf2.predict(X_test[genotype_columns]); print(classification_report(y_test, rf2_predictions))"
   ]
  },
  {
   "cell_type": "code",
   "execution_count": 25,
   "metadata": {},
   "outputs": [],
   "source": [
    "rf3 = RandomForestClassifier().fit(X_train[medication_columns + genotype_columns], y_train)"
   ]
  },
  {
   "cell_type": "code",
   "execution_count": 27,
   "metadata": {},
   "outputs": [
    {
     "name": "stdout",
     "output_type": "stream",
     "text": [
      "                           precision    recall  f1-score   support\n",
      "\n",
      "                    Asian       0.99      0.98      0.98       211\n",
      "Black or African American       0.73      0.68      0.70        63\n",
      "                    White       0.93      0.95      0.94       358\n",
      "\n",
      "                 accuracy                           0.93       632\n",
      "                macro avg       0.88      0.87      0.88       632\n",
      "             weighted avg       0.93      0.93      0.93       632\n",
      "\n"
     ]
    }
   ],
   "source": [
    "rf3_predictions = rf3.predict(X_test[medication_columns + genotype_columns]); print(classification_report(y_test, rf3_predictions))"
   ]
  },
  {
   "cell_type": "markdown",
   "metadata": {
    "id": "qVsgntNBcFkQ"
   },
   "source": [
    "## Add a race column to the primary dataset by using the proxy model with the best performance\n",
    "\n",
    "Since the proxy columns are present in the primary and secondary sets, you can now predict the race of each row in the primary dataset. Simply run proxy_model.predict on the column set you chose in the primary set.\n",
    "\n",
    "\n",
    "\n",
    "\n"
   ]
  },
  {
   "cell_type": "code",
   "execution_count": 28,
   "metadata": {
    "id": "XKo4J0lIcFkQ"
   },
   "outputs": [],
   "source": [
    "primary['race'] = rf3.predict(primary[medication_columns + genotype_columns])"
   ]
  },
  {
   "cell_type": "markdown",
   "metadata": {
    "id": "it24t6NNcFkQ"
   },
   "source": [
    "##  Assess the model bias with the best proxy"
   ]
  },
  {
   "cell_type": "markdown",
   "metadata": {
    "id": "i1Q34zo5cFkQ"
   },
   "source": [
    "In a real-world context, we will usually have some idea of what specific bias metrics we want to measure and report back on. In this case, we can take some guidance from [\"Assessing Algorithmic Fairness with Unobserved Protected Class Using Data Combination\"](https://arxiv.org/pdf/1906.00285.pdf) paper and look to the bias metrics they investigated for this dataset. The authors in that case study were interested in the distribution of high dosage recommendations by race (\"demographic disparity\", see section 8.2 of [\"Assessing Algorithmic Fairness with Unobserved Protected Class Using Data Combination\"](https://arxiv.org/pdf/1906.00285.pdf)), and the distribution of true positive rates by race (\"equal opportunity difference\").\n",
    "\n",
    " - Grouping the dataset by race, observe how the high dosage model's recommendations are distributed, and how they compare to the ground truth ('target'). Is there a disparity in dosage recommendations by race (**disparate impact**)?\n",
    " - Using the tpr helper function, compare the true positive rates for each race. Is there a disparity in TPRs (**equal opportunity difference**)? "
   ]
  },
  {
   "cell_type": "code",
   "execution_count": 34,
   "metadata": {
    "id": "10W1h9tRcFkQ"
   },
   "outputs": [],
   "source": [
    "primary['prediction'] = model.predict(primary[training_columns])"
   ]
  },
  {
   "cell_type": "code",
   "execution_count": 50,
   "metadata": {},
   "outputs": [],
   "source": [
    "from sklearn.metrics import confusion_matrix\n",
    "import numpy as np\n",
    "import matplotlib.pyplot as plt\n",
    "import seaborn as sns"
   ]
  },
  {
   "cell_type": "code",
   "execution_count": 51,
   "metadata": {},
   "outputs": [],
   "source": [
    "def plot_confusion_matrix(y_true,y_pred, return_percentage=False):\n",
    "    \n",
    "    \"\"\" (Series, Series, bool) -> None\n",
    "    Plot a confusion matrix\"\"\"\n",
    "    \n",
    "    cm = confusion_matrix(y_true,y_pred,labels=[1,0])\n",
    "    \n",
    "    if return_percentage:\n",
    "        cm = np.round(np.asarray(cm)/(np.asarray(cm).sum()),3)\n",
    "\n",
    "    ax= plt.subplot()\n",
    "    sns.heatmap(cm, annot=True, ax = ax, cmap='Greens',fmt='g'); #annot=True to annotate cells\n",
    "\n",
    "    # labels, title and ticks\n",
    "    ax.set_xlabel('Predicted labels');ax.set_ylabel('True labels'); \n",
    "    ax.set_title('Confusion Matrix'); \n",
    "    ax.xaxis.set_ticklabels(['positive', 'negative']); ax.yaxis.set_ticklabels(['positive', 'negative']);\n",
    "    plt.show()"
   ]
  },
  {
   "cell_type": "code",
   "execution_count": 52,
   "metadata": {},
   "outputs": [
    {
     "name": "stdout",
     "output_type": "stream",
     "text": [
      "Asian\n",
      "----------\n",
      "              precision    recall  f1-score   support\n",
      "\n",
      "       False       0.91      0.95      0.93       353\n",
      "        True       0.39      0.26      0.31        43\n",
      "\n",
      "    accuracy                           0.88       396\n",
      "   macro avg       0.65      0.60      0.62       396\n",
      "weighted avg       0.86      0.88      0.86       396\n",
      "\n"
     ]
    },
    {
     "data": {
      "image/png": "[encoded data removed]",
      "text/plain": [
       "<Figure size 432x288 with 2 Axes>"
      ]
     },
     "metadata": {
      "needs_background": "light"
     },
     "output_type": "display_data"
    },
    {
     "name": "stdout",
     "output_type": "stream",
     "text": [
      "\n",
      "Black or African American\n",
      "----------\n",
      "              precision    recall  f1-score   support\n",
      "\n",
      "       False       0.58      0.35      0.44        51\n",
      "        True       0.62      0.80      0.70        66\n",
      "\n",
      "    accuracy                           0.61       117\n",
      "   macro avg       0.60      0.58      0.57       117\n",
      "weighted avg       0.60      0.61      0.58       117\n",
      "\n"
     ]
    },
    {
     "data": {
      "image/png": "[encoded data removed]",
      "text/plain": [
       "<Figure size 432x288 with 2 Axes>"
      ]
     },
     "metadata": {
      "needs_background": "light"
     },
     "output_type": "display_data"
    },
    {
     "name": "stdout",
     "output_type": "stream",
     "text": [
      "\n",
      "White\n",
      "----------\n",
      "              precision    recall  f1-score   support\n",
      "\n",
      "       False       0.74      0.87      0.80       472\n",
      "        True       0.69      0.49      0.57       278\n",
      "\n",
      "    accuracy                           0.73       750\n",
      "   macro avg       0.71      0.68      0.69       750\n",
      "weighted avg       0.72      0.73      0.72       750\n",
      "\n"
     ]
    },
    {
     "data": {
      "image/png": "[encoded data removed]",
      "text/plain": [
       "<Figure size 432x288 with 2 Axes>"
      ]
     },
     "metadata": {
      "needs_background": "light"
     },
     "output_type": "display_data"
    },
    {
     "name": "stdout",
     "output_type": "stream",
     "text": [
      "\n"
     ]
    }
   ],
   "source": [
    "for race, df in primary.groupby('race'):\n",
    "    print(race)\n",
    "    print('-' * 10)\n",
    "    print(classification_report(df['target'], df['prediciton']))\n",
    "    plot_confusion_matrix(df['target'], df['prediciton'], return_percentage=True)\n",
    "    print()"
   ]
  },
  {
   "cell_type": "code",
   "execution_count": 36,
   "metadata": {},
   "outputs": [
    {
     "name": "stdout",
     "output_type": "stream",
     "text": [
      "Asian\n",
      "----------\n",
      "tpr ('True positive rate for Asian: 0.2558139534883721', 'True positive rate for non-Asian: 0.5494186046511628', 'Disparity in True positive rate: -0.29360465116279066')\n",
      "Black or African American\n",
      "----------\n",
      "tpr ('True positive rate for Black or African American: 0.803030303030303', 'True positive rate for non-Black or African American: 0.45794392523364486', 'Disparity in True positive rate: 0.34508637779665813')\n",
      "White\n",
      "----------\n",
      "tpr ('True positive rate for White: 0.4892086330935252', 'True positive rate for non-White: 0.5871559633027523', 'Disparity in True positive rate: -0.09794733020922713')\n"
     ]
    }
   ],
   "source": [
    "for race, _ in primary.groupby('race'):\n",
    "    print(race)\n",
    "    print('-' * 10)\n",
    "    print('tpr', tpr(primary, race))"
   ]
  },
  {
   "cell_type": "markdown",
   "metadata": {
    "id": "EUFsqk1mcFkQ"
   },
   "source": [
    "## Report on intermediate findings\n",
    "\n",
    " - Were the high dosage recommendation rates roughly equivalent across races, or was there a substantial difference indicating disparate impact?\n",
    " - Were the true positive rates roughly equivalent across races, or was there a substantial difference indicating equal opportunity difference?\n",
    " - What are some reasons to be cautious about true positive rates calculated with the help of a proxy model?\n",
    " - What actions could be taken by data scientists or clinicians as a result of your findings?"
   ]
  },
  {
   "cell_type": "markdown",
   "metadata": {},
   "source": [
    "- high dosage is recommended above with higher rates for black patients, and with lower rates to asian patients.\n",
    "- the true positive rates, also agree with above (high for black, low for asian).\n",
    "- We need to make sure the proxy model does not introduce bias itself, and so the proxy model should be audited first.\n",
    "- It is important to understand if the model we're using is doing the right thing, given potential differences among etnicity groups. We may also learn something new, about life style that is followed by one group more, that leads to positive or negative health conditions at a certain age (and publish recommendations). If no good explanation found, it is worth exploring what data was fed into the model, and wheather the data contains historical bias, that can potentailly addressed by methods we learned in previous milestone (preprocessing, post processing, etc.), to achieve better results to match the blind medial best practices."
   ]
  },
  {
   "cell_type": "markdown",
   "metadata": {
    "id": "5yyPAUzJcFkQ"
   },
   "source": [
    "##  Assess the model bias using race imputation from other proxies\n",
    " - Since we have other proxy models available, we can gain a little more confidence in our findings by seeing consistent results when other proxies are used.\n",
    " - Repeat your investigation for high dosage recommendation rate disparities using race imputation from the other proxies. Confirm whether the insights align.\n",
    " - Repeat your investigation for TPR disparities using race imputation from the other proxies. Confirm whether the insights align."
   ]
  },
  {
   "cell_type": "code",
   "execution_count": 54,
   "metadata": {
    "id": "iAol1TQrcFkQ"
   },
   "outputs": [],
   "source": [
    "primary['race'] = rf1.predict(primary[medication_columns])"
   ]
  },
  {
   "cell_type": "code",
   "execution_count": 55,
   "metadata": {},
   "outputs": [
    {
     "name": "stdout",
     "output_type": "stream",
     "text": [
      "Asian\n",
      "----------\n",
      "tpr ('True positive rate for Asian: 0.3956043956043956', 'True positive rate for non-Asian: 0.5540540540540541', 'Disparity in True positive rate: -0.15844965844965847')\n",
      "Black or African American\n",
      "----------\n",
      "tpr ('True positive rate for Black or African American: 0.6097560975609756', 'True positive rate for non-Black or African American: 0.5057803468208093', 'Disparity in True positive rate: 0.1039757507401663')\n",
      "White\n",
      "----------\n",
      "tpr ('True positive rate for White: 0.5450980392156862', 'True positive rate for non-White: 0.4621212121212121', 'Disparity in True positive rate: 0.08297682709447413')\n"
     ]
    }
   ],
   "source": [
    "for race, _ in primary.groupby('race'):\n",
    "    print(race)\n",
    "    print('-' * 10)\n",
    "    print('tpr', tpr(primary, race))"
   ]
  },
  {
   "cell_type": "code",
   "execution_count": 56,
   "metadata": {},
   "outputs": [],
   "source": [
    "# similar results"
   ]
  },
  {
   "cell_type": "markdown",
   "metadata": {
    "id": "DY3s1i-fcFkQ"
   },
   "source": [
    "## Complete the deliverable\n",
    "\n",
    "Produce a memo which answers the following questions, taking into account the purpose of the model (assessing the risk of cardiovascular disease)\n",
    "\n",
    " - Is there a disparity in true positive rates along racial lines?\n",
    " - How could this disparity constitute unwanted bias? What are some possible real-world effects?\n",
    " - What are some reasons to be cautious about true positive rates calculated with the help of a proxy model?\n",
    " - What actions could be taken by data scientists or clinicians as a result of your findings?"
   ]
  },
  {
   "cell_type": "markdown",
   "metadata": {
    "id": "KKWjWevncFkQ"
   },
   "source": [
    "## Reflect on the importance of having a highly accurate proxy when modelling without access to protected class data"
   ]
  },
  {
   "cell_type": "markdown",
   "metadata": {
    "id": "szR7YyPVcFkQ"
   },
   "source": [
    "- There is a disparity in true positive rates along racial lines.\n",
    "- Two patients arrive in the hospital, they both need high dosage (taken as a fact), one is subscibed the high dosage as he is black, the other not, as he is asian. The black patient recover, the asian patient has complications. This is unwanted, the model made a mistake in the case of the asian patient that resulted in negative outcome.\n",
    "- I can think of one reason to be cautious here. The proxy model itself may have bias, depending on the secondary data that was fed to it on training.\n",
    "- I would say that this deserves more investigations, whether there are physical differences among race lines that result in somewhat different treatments (most likely yes), but also if some not relevant/practical considerations cripted into the procedure/models, and are a by product of environment/prejudice or previous outdated practices, that are best to avoid these days.  "
   ]
  },
  {
   "cell_type": "code",
   "execution_count": null,
   "metadata": {},
   "outputs": [],
   "source": []
  }
 ],
 "metadata": {
  "colab": {
   "name": "milestone 4 instructions",
   "provenance": []
  },
  "kernelspec": {
   "display_name": "Python 3",
   "language": "python",
   "name": "python3"
  },
  "language_info": {
   "codemirror_mode": {
    "name": "ipython",
    "version": 3
   },
   "file_extension": ".py",
   "mimetype": "text/x-python",
   "name": "python",
   "nbconvert_exporter": "python",
   "pygments_lexer": "ipython3",
   "version": "3.8.5"
  }
 },
 "nbformat": 4,
 "nbformat_minor": 4
}
